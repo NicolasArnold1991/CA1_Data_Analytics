{
 "cells": [
  {
   "cell_type": "code",
   "execution_count": 2,
   "id": "39639423",
   "metadata": {},
   "outputs": [],
   "source": [
    "print = \"hello world\""
   ]
  },
  {
   "cell_type": "code",
   "execution_count": 3,
   "id": "fbc557a7",
   "metadata": {},
   "outputs": [
    {
     "data": {
      "text/plain": [
       "'hello world'"
      ]
     },
     "execution_count": 3,
     "metadata": {},
     "output_type": "execute_result"
    }
   ],
   "source": [
    "print"
   ]
  }
 ],
 "metadata": {
  "kernelspec": {
   "display_name": "Python 3 (ipykernel)",
   "language": "python",
   "name": "python3"
  },
  "language_info": {
   "codemirror_mode": {
    "name": "ipython",
    "version": 3
   },
   "file_extension": ".py",
   "mimetype": "text/x-python",
   "name": "python",
   "nbconvert_exporter": "python",
   "pygments_lexer": "ipython3",
   "version": "3.9.12"
  }
 },
 "nbformat": 4,
 "nbformat_minor": 5
}
