{
 "cells": [
  {
   "cell_type": "code",
   "execution_count": 2,
   "id": "6c81ad32",
   "metadata": {},
   "outputs": [],
   "source": [
    "print = \"hello world\""
   ]
  },
  {
   "cell_type": "code",
   "execution_count": 3,
   "id": "bcf8c946",
   "metadata": {},
   "outputs": [
    {
     "data": {
      "text/plain": [
       "'hello world'"
      ]
     },
     "execution_count": 3,
     "metadata": {},
     "output_type": "execute_result"
    }
   ],
   "source": [
    "print"
   ]
  },
  {
   "cell_type": "code",
   "execution_count": 4,
   "id": "fb8edea2",
   "metadata": {},
   "outputs": [],
   "source": [
    "print = \"My Name is Nicolas\""
   ]
  },
  {
   "cell_type": "code",
   "execution_count": 5,
   "id": "300da6a8",
   "metadata": {},
   "outputs": [
    {
     "data": {
      "text/plain": [
       "'My Name is Nicolas'"
      ]
     },
     "execution_count": 5,
     "metadata": {},
     "output_type": "execute_result"
    }
   ],
   "source": [
    "print"
   ]
  },
  {
   "cell_type": "code",
   "execution_count": 1,
   "id": "ed0ebf87",
   "metadata": {
    "scrolled": true
   },
   "outputs": [
    {
     "name": "stdout",
     "output_type": "stream",
     "text": [
      "Enter your name: Nicolas\n",
      "Hello Nicolas\n"
     ]
    }
   ],
   "source": [
    "name = input(\"Enter your name: \")\n",
    "print(\"Hello\", name)"
   ]
  },
  {
   "cell_type": "code",
   "execution_count": 2,
   "id": "5d2be271",
   "metadata": {},
   "outputs": [
    {
     "name": "stdout",
     "output_type": "stream",
     "text": [
      "Requirement already satisfied: numpy in c:\\users\\nicolas\\anaconda3\\lib\\site-packages (1.21.5)\n"
     ]
    }
   ],
   "source": [
    "!pip install numpy"
   ]
  },
  {
   "cell_type": "markdown",
   "id": "4d45d153",
   "metadata": {},
   "source": [
    "here we are installing the python packages needed to perform analysis"
   ]
  },
  {
   "cell_type": "code",
   "execution_count": 3,
   "id": "5c957d4b",
   "metadata": {},
   "outputs": [],
   "source": [
    "import numpy as np"
   ]
  },
  {
   "cell_type": "markdown",
   "id": "e7f06a1c",
   "metadata": {},
   "source": [
    "here we are importing a particular library in our program and also using an \"alias\" using 'as', this allows us to write the shorthand 'np' instead of having to write out numpy again and again"
   ]
  },
  {
   "cell_type": "code",
   "execution_count": 4,
   "id": "d3382349",
   "metadata": {},
   "outputs": [
    {
     "name": "stdout",
     "output_type": "stream",
     "text": [
      "[1 2 3]\n"
     ]
    }
   ],
   "source": [
    "n = np.array((1,2,3))\n",
    "print (n)"
   ]
  },
  {
   "cell_type": "code",
   "execution_count": 5,
   "id": "b6ba1bd2",
   "metadata": {},
   "outputs": [
    {
     "name": "stdout",
     "output_type": "stream",
     "text": [
      "Requirement already satisfied: pandas in c:\\users\\nicolas\\anaconda3\\lib\\site-packages (1.4.2)\n",
      "Requirement already satisfied: python-dateutil>=2.8.1 in c:\\users\\nicolas\\anaconda3\\lib\\site-packages (from pandas) (2.8.2)\n",
      "Requirement already satisfied: numpy>=1.18.5 in c:\\users\\nicolas\\anaconda3\\lib\\site-packages (from pandas) (1.21.5)\n",
      "Requirement already satisfied: pytz>=2020.1 in c:\\users\\nicolas\\anaconda3\\lib\\site-packages (from pandas) (2021.3)\n",
      "Requirement already satisfied: six>=1.5 in c:\\users\\nicolas\\anaconda3\\lib\\site-packages (from python-dateutil>=2.8.1->pandas) (1.16.0)\n"
     ]
    }
   ],
   "source": [
    "!pip install pandas"
   ]
  },
  {
   "cell_type": "markdown",
   "id": "57c38160",
   "metadata": {},
   "source": [
    "here we install pandas, which is an open source tool used for data analysis"
   ]
  },
  {
   "cell_type": "code",
   "execution_count": 6,
   "id": "3bc5e1e8",
   "metadata": {},
   "outputs": [],
   "source": [
    "import pandas as pd"
   ]
  },
  {
   "cell_type": "markdown",
   "id": "ac000ede",
   "metadata": {},
   "source": [
    "Same as with the numpy we imported the pandas tool and gave it an alias 'pd' to save time"
   ]
  },
  {
   "cell_type": "code",
   "execution_count": 8,
   "id": "db687908",
   "metadata": {},
   "outputs": [
    {
     "name": "stdout",
     "output_type": "stream",
     "text": [
      "Student Records\n",
      "\n",
      "   student  rank  marks\n",
      "0    Amit     1     95\n",
      "1    John     4     70\n",
      "2   Jacob     3     80\n",
      "3   David     5     60\n",
      "4   Steve     2     90\n"
     ]
    }
   ],
   "source": [
    "# dataset\n",
    "data = {\n",
    "    'student': [\"Amit\", \"John\", \"Jacob\", \"David\", \"Steve\"],\n",
    "    'rank': [1, 4, 3, 5, 2],\n",
    "    'marks': [95, 70, 80, 60, 90]\n",
    "}\n",
    "\n",
    "res = pd.DataFrame(data)\n",
    "\n",
    "print(\"Student Records\\n\\n\",res)"
   ]
  },
  {
   "cell_type": "markdown",
   "id": "8b7db47a",
   "metadata": {},
   "source": [
    "here we created a dataset and a small table display this data. Take careful note to use the \\ 'backslash' symbol not the / 'forwardslash' symbol as this will produce a different table and the results will not align unber the headings. to produce the \\ 'backslash' symbol you must hold the alt key and press 092 on the numeric pad for some strange reason"
   ]
  },
  {
   "cell_type": "code",
   "execution_count": 9,
   "id": "e1aa82e6",
   "metadata": {},
   "outputs": [
    {
     "name": "stdout",
     "output_type": "stream",
     "text": [
      "Requirement already satisfied: matplotlib in c:\\users\\nicolas\\anaconda3\\lib\\site-packages (3.5.1)\n",
      "Requirement already satisfied: pyparsing>=2.2.1 in c:\\users\\nicolas\\anaconda3\\lib\\site-packages (from matplotlib) (3.0.4)\n",
      "Requirement already satisfied: packaging>=20.0 in c:\\users\\nicolas\\anaconda3\\lib\\site-packages (from matplotlib) (21.3)\n",
      "Requirement already satisfied: fonttools>=4.22.0 in c:\\users\\nicolas\\anaconda3\\lib\\site-packages (from matplotlib) (4.25.0)\n",
      "Requirement already satisfied: numpy>=1.17 in c:\\users\\nicolas\\anaconda3\\lib\\site-packages (from matplotlib) (1.21.5)\n",
      "Requirement already satisfied: cycler>=0.10 in c:\\users\\nicolas\\anaconda3\\lib\\site-packages (from matplotlib) (0.11.0)\n",
      "Requirement already satisfied: pillow>=6.2.0 in c:\\users\\nicolas\\anaconda3\\lib\\site-packages (from matplotlib) (9.0.1)\n",
      "Requirement already satisfied: python-dateutil>=2.7 in c:\\users\\nicolas\\anaconda3\\lib\\site-packages (from matplotlib) (2.8.2)\n",
      "Requirement already satisfied: kiwisolver>=1.0.1 in c:\\users\\nicolas\\anaconda3\\lib\\site-packages (from matplotlib) (1.3.2)\n",
      "Requirement already satisfied: six>=1.5 in c:\\users\\nicolas\\anaconda3\\lib\\site-packages (from python-dateutil>=2.7->matplotlib) (1.16.0)\n"
     ]
    }
   ],
   "source": [
    "!pip install matplotlib"
   ]
  },
  {
   "cell_type": "markdown",
   "id": "8b066569",
   "metadata": {},
   "source": [
    "here we are install matplotlib which is an open source plotting libary used for data visualisation to create histograms, grpahs and bar graphs"
   ]
  },
  {
   "cell_type": "code",
   "execution_count": 11,
   "id": "91dfc90d",
   "metadata": {},
   "outputs": [],
   "source": [
    "import matplotlib.pyplot as plt"
   ]
  },
  {
   "cell_type": "markdown",
   "id": "c00c858a",
   "metadata": {},
   "source": [
    "just as before we import the plotting program in order to create graphs etc, note that the syntax code 'pyplot' is used because the pi plot submodule utlities works under the mat pi plot utilities. "
   ]
  },
  {
   "cell_type": "code",
   "execution_count": 12,
   "id": "f9484f9b",
   "metadata": {
    "scrolled": true
   },
   "outputs": [
    {
     "data": {
      "image/png": "[encoded data removed]",
      "text/plain": [
       "<Figure size 432x288 with 1 Axes>"
      ]
     },
     "metadata": {
      "needs_background": "light"
     },
     "output_type": "display_data"
    }
   ],
   "source": [
    "xpts = np.array ([0,4])\n",
    "ypts = np.array ([0,100])\n",
    "\n",
    "plt.plot(xpts, ypts)\n",
    "plt.show()"
   ]
  },
  {
   "cell_type": "markdown",
   "id": "17bb2040",
   "metadata": {},
   "source": [
    "here we created a graph to dsiplay our data created earlier. not the xpts denotes the what will be variable will be displayed on the x axis and ypts denotes what will be displayed on the y axis. the 'plot' syntax is telling our code we wish to plot our data."
   ]
  }
 ],
 "metadata": {
  "kernelspec": {
   "display_name": "Python 3 (ipykernel)",
   "language": "python",
   "name": "python3"
  },
  "language_info": {
   "codemirror_mode": {
    "name": "ipython",
    "version": 3
   },
   "file_extension": ".py",
   "mimetype": "text/x-python",
   "name": "python",
   "nbconvert_exporter": "python",
   "pygments_lexer": "ipython3",
   "version": "3.9.12"
  }
 },
 "nbformat": 4,
 "nbformat_minor": 5
}
