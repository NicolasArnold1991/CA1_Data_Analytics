{
 "cells": [
  {
   "cell_type": "code",
   "execution_count": null,
   "id": "1623a7bf",
   "metadata": {},
   "outputs": [],
   "source": [
    "print = \"hello world\""
   ]
  },
  {
   "cell_type": "code",
   "execution_count": null,
   "id": "752aaf2f",
   "metadata": {},
   "outputs": [],
   "source": [
    "print"
   ]
  },
  {
   "cell_type": "code",
   "execution_count": null,
   "id": "d5010ddd",
   "metadata": {},
   "outputs": [],
   "source": [
    "print = \"My Name is Nicolas\""
   ]
  },
  {
   "cell_type": "code",
   "execution_count": null,
   "id": "51698199",
   "metadata": {},
   "outputs": [],
   "source": [
    "print"
   ]
  },
  {
   "cell_type": "code",
   "execution_count": null,
   "id": "87bd8e18",
   "metadata": {
    "scrolled": true
   },
   "outputs": [],
   "source": [
    "name = input(\"Enter your name: \")\n",
    "print(\"Hello\", name)"
   ]
  },
  {
   "cell_type": "code",
   "execution_count": null,
   "id": "5807f4c0",
   "metadata": {},
   "outputs": [],
   "source": [
    "!pip install numpy"
   ]
  },
  {
   "cell_type": "markdown",
   "id": "e5b4decb",
   "metadata": {},
   "source": [
    "here we are installing the python packages needed to perform analysis"
   ]
  },
  {
   "cell_type": "code",
   "execution_count": null,
   "id": "f23aa893",
   "metadata": {},
   "outputs": [],
   "source": [
    "import numpy as np"
   ]
  },
  {
   "cell_type": "markdown",
   "id": "b206c87f",
   "metadata": {},
   "source": [
    "here we are importing a particular library in our program and also using an \"alias\" using 'as', this allows us to write the shorthand 'np' instead of having to write out numpy again and again"
   ]
  },
  {
   "cell_type": "code",
   "execution_count": null,
   "id": "ce1c115a",
   "metadata": {},
   "outputs": [],
   "source": [
    "n = np.array((1,2,3))\n",
    "print (n)"
   ]
  },
  {
   "cell_type": "code",
   "execution_count": 1,
   "id": "00741f1b",
   "metadata": {},
   "outputs": [
    {
     "name": "stdout",
     "output_type": "stream",
     "text": [
      "Requirement already satisfied: pandas in c:\\users\\nicolas\\anaconda3\\lib\\site-packages (1.4.2)\n",
      "Requirement already satisfied: python-dateutil>=2.8.1 in c:\\users\\nicolas\\anaconda3\\lib\\site-packages (from pandas) (2.8.2)\n",
      "Requirement already satisfied: pytz>=2020.1 in c:\\users\\nicolas\\anaconda3\\lib\\site-packages (from pandas) (2021.3)\n",
      "Requirement already satisfied: numpy>=1.18.5 in c:\\users\\nicolas\\anaconda3\\lib\\site-packages (from pandas) (1.21.5)\n",
      "Requirement already satisfied: six>=1.5 in c:\\users\\nicolas\\anaconda3\\lib\\site-packages (from python-dateutil>=2.8.1->pandas) (1.16.0)\n"
     ]
    }
   ],
   "source": [
    "!pip install pandas"
   ]
  },
  {
   "cell_type": "markdown",
   "id": "e3b7087c",
   "metadata": {},
   "source": [
    "here we install pandas, which is an open source tool used for data analysis"
   ]
  },
  {
   "cell_type": "code",
   "execution_count": 2,
   "id": "709632aa",
   "metadata": {},
   "outputs": [],
   "source": [
    "import pandas as pd"
   ]
  },
  {
   "cell_type": "markdown",
   "id": "6a1030de",
   "metadata": {},
   "source": [
    "Same as with the numpy we imported the pandas tool and gave it an alias 'pd' to save time"
   ]
  },
  {
   "cell_type": "code",
   "execution_count": null,
   "id": "74e98be0",
   "metadata": {},
   "outputs": [],
   "source": [
    "# dataset\n",
    "data = {\n",
    "    'student': [\"Amit\", \"John\", \"Jacob\", \"David\", \"Steve\"],\n",
    "    'rank': [1, 4, 3, 5, 2],\n",
    "    'marks': [95, 70, 80, 60, 90]\n",
    "}\n",
    "\n",
    "res = pd.DataFrame(data)\n",
    "\n",
    "print(\"Student Records\\n\\n\",res)"
   ]
  },
  {
   "cell_type": "markdown",
   "id": "6f687a6b",
   "metadata": {},
   "source": [
    "here we created a dataset and a small table display this data. Take careful note to use the \\ 'backslash' symbol not the / 'forwardslash' symbol as this will produce a different table and the results will not align unber the headings. to produce the \\ 'backslash' symbol you must hold the alt key and press 092 on the numeric pad for some strange reason"
   ]
  },
  {
   "cell_type": "code",
   "execution_count": null,
   "id": "463017e0",
   "metadata": {
    "scrolled": true
   },
   "outputs": [],
   "source": [
    "!pip install matplotlib"
   ]
  },
  {
   "cell_type": "markdown",
   "id": "be86bf5e",
   "metadata": {},
   "source": [
    "here we are install matplotlib which is an open source plotting libary used for data visualisation to create histograms, grpahs and bar graphs"
   ]
  },
  {
   "cell_type": "code",
   "execution_count": null,
   "id": "e776c535",
   "metadata": {},
   "outputs": [],
   "source": [
    "import matplotlib.pyplot as plt"
   ]
  },
  {
   "cell_type": "markdown",
   "id": "ba26d460",
   "metadata": {},
   "source": [
    "just as before we import the plotting program in order to create graphs etc, note that the syntax code 'pyplot' is used because the pi plot submodule utlities works under the mat pi plot utilities. "
   ]
  },
  {
   "cell_type": "code",
   "execution_count": null,
   "id": "612bb6c2",
   "metadata": {},
   "outputs": [],
   "source": [
    "xpts = np.array ([0,4])\n",
    "ypts = np.array ([0,100])\n",
    "\n",
    "plt.plot(xpts, ypts)\n",
    "plt.show()"
   ]
  },
  {
   "cell_type": "markdown",
   "id": "25183f80",
   "metadata": {},
   "source": [
    "here we created a graph to dsiplay our data created earlier. not the xpts denotes the what will be variable will be displayed on the x axis and ypts denotes what will be displayed on the y axis. the 'plot' syntax is telling our code we wish to plot our data."
   ]
  },
  {
   "cell_type": "code",
   "execution_count": null,
   "id": "a140d8ff",
   "metadata": {},
   "outputs": [],
   "source": [
    "import os\n",
    "os.getcwd()"
   ]
  },
  {
   "cell_type": "markdown",
   "id": "40ca5382",
   "metadata": {},
   "source": [
    "Here we are importing the location of our current working directory, or where our work is being stored. 'getcwd' is the syntax for retreiving our current working directory."
   ]
  },
  {
   "cell_type": "code",
   "execution_count": 4,
   "id": "c3493c25",
   "metadata": {},
   "outputs": [
    {
     "data": {
      "text/plain": [
       "'C:\\\\Users\\\\Nicolas'"
      ]
     },
     "execution_count": 4,
     "metadata": {},
     "output_type": "execute_result"
    }
   ],
   "source": [
    "pwd"
   ]
  },
  {
   "cell_type": "code",
   "execution_count": 9,
   "id": "78ae175c",
   "metadata": {
    "scrolled": true
   },
   "outputs": [
    {
     "data": {
      "text/html": [
       "<div>\n",
       "<style scoped>\n",
       "    .dataframe tbody tr th:only-of-type {\n",
       "        vertical-align: middle;\n",
       "    }\n",
       "\n",
       "    .dataframe tbody tr th {\n",
       "        vertical-align: top;\n",
       "    }\n",
       "\n",
       "    .dataframe thead th {\n",
       "        text-align: right;\n",
       "    }\n",
       "</style>\n",
       "<table border=\"1\" class=\"dataframe\">\n",
       "  <thead>\n",
       "    <tr style=\"text-align: right;\">\n",
       "      <th></th>\n",
       "      <th>STATISTIC</th>\n",
       "      <th>Garda Station</th>\n",
       "      <th>Type of Offence</th>\n",
       "      <th>UNIT</th>\n",
       "      <th>2003</th>\n",
       "      <th>2004</th>\n",
       "      <th>2005</th>\n",
       "      <th>2006</th>\n",
       "      <th>2007</th>\n",
       "      <th>2008</th>\n",
       "      <th>...</th>\n",
       "      <th>2013</th>\n",
       "      <th>2014</th>\n",
       "      <th>2015</th>\n",
       "      <th>2016</th>\n",
       "      <th>2017</th>\n",
       "      <th>2018</th>\n",
       "      <th>2019</th>\n",
       "      <th>2020</th>\n",
       "      <th>2021</th>\n",
       "      <th>2022</th>\n",
       "    </tr>\n",
       "  </thead>\n",
       "  <tbody>\n",
       "    <tr>\n",
       "      <th>0</th>\n",
       "      <td>Recorded crime incidents (Under Reservation)</td>\n",
       "      <td>35301 Abbeyfeale, Limerick Division</td>\n",
       "      <td>Burglary and related offences</td>\n",
       "      <td>Number</td>\n",
       "      <td>27</td>\n",
       "      <td>21</td>\n",
       "      <td>24</td>\n",
       "      <td>33</td>\n",
       "      <td>28</td>\n",
       "      <td>28</td>\n",
       "      <td>...</td>\n",
       "      <td>30</td>\n",
       "      <td>36</td>\n",
       "      <td>27</td>\n",
       "      <td>15</td>\n",
       "      <td>14</td>\n",
       "      <td>23</td>\n",
       "      <td>23</td>\n",
       "      <td>15</td>\n",
       "      <td>18</td>\n",
       "      <td>4</td>\n",
       "    </tr>\n",
       "    <tr>\n",
       "      <th>1</th>\n",
       "      <td>Recorded crime incidents (Under Reservation)</td>\n",
       "      <td>41201 Abbeyleix, Laois/Offaly Division</td>\n",
       "      <td>Burglary and related offences</td>\n",
       "      <td>Number</td>\n",
       "      <td>29</td>\n",
       "      <td>26</td>\n",
       "      <td>34</td>\n",
       "      <td>43</td>\n",
       "      <td>35</td>\n",
       "      <td>27</td>\n",
       "      <td>...</td>\n",
       "      <td>56</td>\n",
       "      <td>53</td>\n",
       "      <td>53</td>\n",
       "      <td>29</td>\n",
       "      <td>20</td>\n",
       "      <td>25</td>\n",
       "      <td>16</td>\n",
       "      <td>15</td>\n",
       "      <td>9</td>\n",
       "      <td>13</td>\n",
       "    </tr>\n",
       "    <tr>\n",
       "      <th>2</th>\n",
       "      <td>Recorded crime incidents (Under Reservation)</td>\n",
       "      <td>35302 Adare, Limerick Division</td>\n",
       "      <td>Burglary and related offences</td>\n",
       "      <td>Number</td>\n",
       "      <td>9</td>\n",
       "      <td>4</td>\n",
       "      <td>9</td>\n",
       "      <td>14</td>\n",
       "      <td>12</td>\n",
       "      <td>20</td>\n",
       "      <td>...</td>\n",
       "      <td>24</td>\n",
       "      <td>16</td>\n",
       "      <td>20</td>\n",
       "      <td>10</td>\n",
       "      <td>12</td>\n",
       "      <td>16</td>\n",
       "      <td>9</td>\n",
       "      <td>5</td>\n",
       "      <td>10</td>\n",
       "      <td>2</td>\n",
       "    </tr>\n",
       "    <tr>\n",
       "      <th>3</th>\n",
       "      <td>Recorded crime incidents (Under Reservation)</td>\n",
       "      <td>54101 Aglish, Waterford Division</td>\n",
       "      <td>Burglary and related offences</td>\n",
       "      <td>Number</td>\n",
       "      <td>6</td>\n",
       "      <td>7</td>\n",
       "      <td>4</td>\n",
       "      <td>3</td>\n",
       "      <td>3</td>\n",
       "      <td>2</td>\n",
       "      <td>...</td>\n",
       "      <td>3</td>\n",
       "      <td>5</td>\n",
       "      <td>4</td>\n",
       "      <td>2</td>\n",
       "      <td>7</td>\n",
       "      <td>2</td>\n",
       "      <td>3</td>\n",
       "      <td>1</td>\n",
       "      <td>2</td>\n",
       "      <td>0</td>\n",
       "    </tr>\n",
       "    <tr>\n",
       "      <th>4</th>\n",
       "      <td>Recorded crime incidents (Under Reservation)</td>\n",
       "      <td>23101 Ahascragh, Galway Division</td>\n",
       "      <td>Burglary and related offences</td>\n",
       "      <td>Number</td>\n",
       "      <td>1</td>\n",
       "      <td>4</td>\n",
       "      <td>4</td>\n",
       "      <td>6</td>\n",
       "      <td>2</td>\n",
       "      <td>3</td>\n",
       "      <td>...</td>\n",
       "      <td>2</td>\n",
       "      <td>3</td>\n",
       "      <td>2</td>\n",
       "      <td>5</td>\n",
       "      <td>3</td>\n",
       "      <td>0</td>\n",
       "      <td>2</td>\n",
       "      <td>3</td>\n",
       "      <td>0</td>\n",
       "      <td>3</td>\n",
       "    </tr>\n",
       "    <tr>\n",
       "      <th>...</th>\n",
       "      <td>...</td>\n",
       "      <td>...</td>\n",
       "      <td>...</td>\n",
       "      <td>...</td>\n",
       "      <td>...</td>\n",
       "      <td>...</td>\n",
       "      <td>...</td>\n",
       "      <td>...</td>\n",
       "      <td>...</td>\n",
       "      <td>...</td>\n",
       "      <td>...</td>\n",
       "      <td>...</td>\n",
       "      <td>...</td>\n",
       "      <td>...</td>\n",
       "      <td>...</td>\n",
       "      <td>...</td>\n",
       "      <td>...</td>\n",
       "      <td>...</td>\n",
       "      <td>...</td>\n",
       "      <td>...</td>\n",
       "      <td>...</td>\n",
       "    </tr>\n",
       "    <tr>\n",
       "      <th>559</th>\n",
       "      <td>Recorded crime incidents (Under Reservation)</td>\n",
       "      <td>32405 Whitegate, Cork North Division</td>\n",
       "      <td>Burglary and related offences</td>\n",
       "      <td>Number</td>\n",
       "      <td>2</td>\n",
       "      <td>7</td>\n",
       "      <td>6</td>\n",
       "      <td>5</td>\n",
       "      <td>10</td>\n",
       "      <td>5</td>\n",
       "      <td>...</td>\n",
       "      <td>7</td>\n",
       "      <td>14</td>\n",
       "      <td>10</td>\n",
       "      <td>1</td>\n",
       "      <td>5</td>\n",
       "      <td>2</td>\n",
       "      <td>1</td>\n",
       "      <td>2</td>\n",
       "      <td>0</td>\n",
       "      <td>4</td>\n",
       "    </tr>\n",
       "    <tr>\n",
       "      <th>560</th>\n",
       "      <td>Recorded crime incidents (Under Reservation)</td>\n",
       "      <td>43307 Wicklow, Wicklow Division</td>\n",
       "      <td>Burglary and related offences</td>\n",
       "      <td>Number</td>\n",
       "      <td>83</td>\n",
       "      <td>112</td>\n",
       "      <td>110</td>\n",
       "      <td>90</td>\n",
       "      <td>77</td>\n",
       "      <td>105</td>\n",
       "      <td>...</td>\n",
       "      <td>60</td>\n",
       "      <td>101</td>\n",
       "      <td>65</td>\n",
       "      <td>64</td>\n",
       "      <td>48</td>\n",
       "      <td>38</td>\n",
       "      <td>65</td>\n",
       "      <td>23</td>\n",
       "      <td>25</td>\n",
       "      <td>28</td>\n",
       "    </tr>\n",
       "    <tr>\n",
       "      <th>561</th>\n",
       "      <td>Recorded crime incidents (Under Reservation)</td>\n",
       "      <td>23810 Williamstown, Galway Division</td>\n",
       "      <td>Burglary and related offences</td>\n",
       "      <td>Number</td>\n",
       "      <td>6</td>\n",
       "      <td>2</td>\n",
       "      <td>1</td>\n",
       "      <td>1</td>\n",
       "      <td>2</td>\n",
       "      <td>4</td>\n",
       "      <td>...</td>\n",
       "      <td>3</td>\n",
       "      <td>3</td>\n",
       "      <td>3</td>\n",
       "      <td>3</td>\n",
       "      <td>2</td>\n",
       "      <td>2</td>\n",
       "      <td>2</td>\n",
       "      <td>1</td>\n",
       "      <td>0</td>\n",
       "      <td>2</td>\n",
       "    </tr>\n",
       "    <tr>\n",
       "      <th>562</th>\n",
       "      <td>Recorded crime incidents (Under Reservation)</td>\n",
       "      <td>23508 Woodford, Galway Division</td>\n",
       "      <td>Burglary and related offences</td>\n",
       "      <td>Number</td>\n",
       "      <td>4</td>\n",
       "      <td>1</td>\n",
       "      <td>7</td>\n",
       "      <td>0</td>\n",
       "      <td>2</td>\n",
       "      <td>1</td>\n",
       "      <td>...</td>\n",
       "      <td>4</td>\n",
       "      <td>3</td>\n",
       "      <td>6</td>\n",
       "      <td>8</td>\n",
       "      <td>4</td>\n",
       "      <td>4</td>\n",
       "      <td>0</td>\n",
       "      <td>2</td>\n",
       "      <td>3</td>\n",
       "      <td>2</td>\n",
       "    </tr>\n",
       "    <tr>\n",
       "      <th>563</th>\n",
       "      <td>Recorded crime incidents (Under Reservation)</td>\n",
       "      <td>32406 Youghal, Cork North Division</td>\n",
       "      <td>Burglary and related offences</td>\n",
       "      <td>Number</td>\n",
       "      <td>50</td>\n",
       "      <td>30</td>\n",
       "      <td>60</td>\n",
       "      <td>51</td>\n",
       "      <td>36</td>\n",
       "      <td>42</td>\n",
       "      <td>...</td>\n",
       "      <td>28</td>\n",
       "      <td>32</td>\n",
       "      <td>50</td>\n",
       "      <td>20</td>\n",
       "      <td>31</td>\n",
       "      <td>21</td>\n",
       "      <td>20</td>\n",
       "      <td>12</td>\n",
       "      <td>10</td>\n",
       "      <td>8</td>\n",
       "    </tr>\n",
       "  </tbody>\n",
       "</table>\n",
       "<p>564 rows × 24 columns</p>\n",
       "</div>"
      ],
      "text/plain": [
       "                                        STATISTIC  \\\n",
       "0    Recorded crime incidents (Under Reservation)   \n",
       "1    Recorded crime incidents (Under Reservation)   \n",
       "2    Recorded crime incidents (Under Reservation)   \n",
       "3    Recorded crime incidents (Under Reservation)   \n",
       "4    Recorded crime incidents (Under Reservation)   \n",
       "..                                            ...   \n",
       "559  Recorded crime incidents (Under Reservation)   \n",
       "560  Recorded crime incidents (Under Reservation)   \n",
       "561  Recorded crime incidents (Under Reservation)   \n",
       "562  Recorded crime incidents (Under Reservation)   \n",
       "563  Recorded crime incidents (Under Reservation)   \n",
       "\n",
       "                              Garda Station                Type of Offence  \\\n",
       "0       35301 Abbeyfeale, Limerick Division  Burglary and related offences   \n",
       "1    41201 Abbeyleix, Laois/Offaly Division  Burglary and related offences   \n",
       "2            35302 Adare, Limerick Division  Burglary and related offences   \n",
       "3          54101 Aglish, Waterford Division  Burglary and related offences   \n",
       "4          23101 Ahascragh, Galway Division  Burglary and related offences   \n",
       "..                                      ...                            ...   \n",
       "559    32405 Whitegate, Cork North Division  Burglary and related offences   \n",
       "560         43307 Wicklow, Wicklow Division  Burglary and related offences   \n",
       "561     23810 Williamstown, Galway Division  Burglary and related offences   \n",
       "562         23508 Woodford, Galway Division  Burglary and related offences   \n",
       "563      32406 Youghal, Cork North Division  Burglary and related offences   \n",
       "\n",
       "       UNIT  2003  2004  2005  2006  2007  2008  ...  2013  2014  2015  2016  \\\n",
       "0    Number    27    21    24    33    28    28  ...    30    36    27    15   \n",
       "1    Number    29    26    34    43    35    27  ...    56    53    53    29   \n",
       "2    Number     9     4     9    14    12    20  ...    24    16    20    10   \n",
       "3    Number     6     7     4     3     3     2  ...     3     5     4     2   \n",
       "4    Number     1     4     4     6     2     3  ...     2     3     2     5   \n",
       "..      ...   ...   ...   ...   ...   ...   ...  ...   ...   ...   ...   ...   \n",
       "559  Number     2     7     6     5    10     5  ...     7    14    10     1   \n",
       "560  Number    83   112   110    90    77   105  ...    60   101    65    64   \n",
       "561  Number     6     2     1     1     2     4  ...     3     3     3     3   \n",
       "562  Number     4     1     7     0     2     1  ...     4     3     6     8   \n",
       "563  Number    50    30    60    51    36    42  ...    28    32    50    20   \n",
       "\n",
       "     2017  2018  2019  2020  2021  2022  \n",
       "0      14    23    23    15    18     4  \n",
       "1      20    25    16    15     9    13  \n",
       "2      12    16     9     5    10     2  \n",
       "3       7     2     3     1     2     0  \n",
       "4       3     0     2     3     0     3  \n",
       "..    ...   ...   ...   ...   ...   ...  \n",
       "559     5     2     1     2     0     4  \n",
       "560    48    38    65    23    25    28  \n",
       "561     2     2     2     1     0     2  \n",
       "562     4     4     0     2     3     2  \n",
       "563    31    21    20    12    10     8  \n",
       "\n",
       "[564 rows x 24 columns]"
      ]
     },
     "execution_count": 9,
     "metadata": {},
     "output_type": "execute_result"
    }
   ],
   "source": [
    "pd.read_excel('Burglary_Data.xlsx')"
   ]
  },
  {
   "cell_type": "markdown",
   "id": "8b603ecf",
   "metadata": {},
   "source": [
    "Here we are importing data from an excel file to use for data analysis. the syntax 'pd.read' is used to read another file in juypter. Be very carfeul when naming the file you wish to read, if it is located in the same loaction as your jupyter file you are working on then you only need to name the file and its type eg. excel file (xlsx). If the file you wish to read is located in another location then you must copy the full file location. Also be carfeul to use (') symbol not the (\") when nameing the file, I made far too many errors because of this."
   ]
  }
 ],
 "metadata": {
  "kernelspec": {
   "display_name": "Python 3 (ipykernel)",
   "language": "python",
   "name": "python3"
  },
  "language_info": {
   "codemirror_mode": {
    "name": "ipython",
    "version": 3
   },
   "file_extension": ".py",
   "mimetype": "text/x-python",
   "name": "python",
   "nbconvert_exporter": "python",
   "pygments_lexer": "ipython3",
   "version": "3.9.12"
  }
 },
 "nbformat": 4,
 "nbformat_minor": 5
}
